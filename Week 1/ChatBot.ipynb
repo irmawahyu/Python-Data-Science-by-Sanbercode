{
 "cells": [
  {
   "cell_type": "markdown",
   "metadata": {},
   "source": [
    "Buatlah sebuah fungsi chatbot yang memberikan suatu respon dimana chatbot ini menerima satu argument string.\n",
    "\n",
    "Buah sebuah fungsi chatbot yang memberikan suatu respon dimana chatbot ini menerima satu argument string.\n",
    "\n",
    "Jika argument adalah pertanyaan kemudian chatbot mengecek lagi apakah pertanyaan tersebut adalah pertanyaan yang bisa di jawab atau tidak. Jika pertanyaannya bisa di jawab maka fungsi akan memberikan jawaban yang bersifat random berdasarkan opsi list jawaban yang disediakan berdasarkan jenis pertanyaan tersebut. Jika tidak maka chatbot akan memberikan jawaban default bahwa chatbot tidak mengerti pertanyaannya.\n",
    "\n",
    "Jika argument adalah bukan pertanyaan maka chatbot akan memberikan sebuah statement random yang disediakan."
   ]
  },
  {
   "cell_type": "markdown",
   "metadata": {},
   "source": [
    "## Remove Duplicate List"
   ]
  },
  {
   "cell_type": "code",
   "execution_count": 3,
   "metadata": {},
   "outputs": [
    {
     "name": "stdout",
     "output_type": "stream",
     "text": [
      "[1, 2, 4, 5, 6, 7, 8]\n",
      "[1, 2, 4, 5, 6, 7, 8]\n"
     ]
    }
   ],
   "source": [
    "obj_list = [1, 2, 4, 6, 2, 1, 4, 5, 7, 8, 6]\n",
    "def remove_duplicate(obj_list):\n",
    "    new_list=[]\n",
    "    for x in obj_list: \n",
    "        if x not in new_list:\n",
    "            new_list.append(x)\n",
    "    return sorted(new_list)\n",
    "\n",
    "def remove_duplicate_with_set(obj_list):\n",
    "    new_list = list(set(obj_list))\n",
    "    return new_list\n",
    "\n",
    "print(remove_duplicate(obj_list))\n",
    "print(remove_duplicate_with_set(obj_list))"
   ]
  },
  {
   "cell_type": "code",
   "execution_count": null,
   "metadata": {},
   "outputs": [],
   "source": [
    "ChatBot"
   ]
  },
  {
   "cell_type": "markdown",
   "metadata": {},
   "source": [
    "Buatlah sebuah fungsi chatbot yang memberikan suatu respon dimana chatbot ini menerima satu argument string.\n",
    "\n",
    "Buah sebuah fungsi chatbot yang memberikan suatu respon dimana chatbot ini menerima satu argument string.\n",
    "\n",
    "Jika argument adalah pertanyaan kemudian chatbot mengecek lagi apakah pertanyaan tersebut adalah pertanyaan yang bisa di jawab atau tidak. Jika pertanyaannya bisa di jawab maka fungsi akan memberikan jawaban yang bersifat random berdasarkan opsi list jawaban yang disediakan berdasarkan jenis pertanyaan tersebut. Jika tidak maka chatbot akan memberikan jawaban default bahwa chatbot tidak mengerti pertanyaannya.\n",
    "\n",
    "Jika argument adalah bukan pertanyaan maka chatbot akan memberikan sebuah statement random yang disediakan."
   ]
  },
  {
   "cell_type": "code",
   "execution_count": 1,
   "metadata": {},
   "outputs": [
    {
     "name": "stdout",
     "output_type": "stream",
     "text": [
      "ceritakan lebih banyak!\n",
      "maaf, aku tidak tahu jawaban dari pertanyaanmu\n",
      "orang-orang memanggil saya Irma Wahyu Rosanti\n",
      "hari ini tanggal 28\n"
     ]
    }
   ],
   "source": [
    "from datetime import datetime\n",
    "import random\n",
    "\n",
    "nama = 'Irma Wahyu Rosanti'\n",
    "tanggal = datetime.now().day\n",
    "default = 'maaf, aku tidak tahu jawaban dari pertanyaanmu'\n",
    "\n",
    "jawaban_nama = [\n",
    "                  \"nama saya  {0}\".format(nama),\n",
    "                  \"orang-orang memanggil saya {0}\".format(nama),\n",
    "                  \"panggil saja saya {0}\".format(nama)\n",
    "               ]\n",
    "\n",
    "jawaban_tanggal = [\n",
    "                      \"hari ini tanggal {0}\".format(tanggal),\n",
    "                      \"ya ampun masa tidak tahu, hari ini tanggal\".format(tanggal)\n",
    "                  ]\n",
    "\n",
    "pertanyaan = {\n",
    "                 \"nama kamu siapa?\": jawaban_nama,\n",
    "                 \"kamu siapa?\" : jawaban_nama,\n",
    "                 \"tanggal berapa hari ini?\": jawaban_tanggal,\n",
    "                 \"hari ini tanggal berapa?\" : jawaban_tanggal,\n",
    "                \"default\": default\n",
    "             }\n",
    "\n",
    "statement =  [\n",
    "                  'ceritakan lebih banyak!',\n",
    "                  'kenapa kamu berpikir begitu?',\n",
    "                  'sudah berapa lama kamu merasa seperti ini?',\n",
    "                  'Itu sangat menarik!',\n",
    "                  'oh wow!',\n",
    "                  ':)'\n",
    "              ]\n",
    "\n",
    "responses = {\n",
    "                'pertanyaan' : pertanyaan,\n",
    "                'statement' : statement\n",
    "            }\n",
    "\n",
    "def chatbot(message):\n",
    "    if '?' in message:\n",
    "        if message in pertanyaan:\n",
    "            return random.choice(pertanyaan[message])\n",
    "        else:\n",
    "            return default\n",
    "    else:\n",
    "        return random.choice(statement)\n",
    "\n",
    "print(chatbot('Selamat Pagi'))\n",
    "print(chatbot('Mau bermain bersamaku?'))\n",
    "print(chatbot('nama kamu siapa?'))\n",
    "print(chatbot('hari ini tanggal berapa?'))"
   ]
  }
 ],
 "metadata": {
  "kernelspec": {
   "display_name": "Python 3",
   "language": "python",
   "name": "python3"
  },
  "language_info": {
   "codemirror_mode": {
    "name": "ipython",
    "version": 3
   },
   "file_extension": ".py",
   "mimetype": "text/x-python",
   "name": "python",
   "nbconvert_exporter": "python",
   "pygments_lexer": "ipython3",
   "version": "3.7.1"
  }
 },
 "nbformat": 4,
 "nbformat_minor": 2
}
