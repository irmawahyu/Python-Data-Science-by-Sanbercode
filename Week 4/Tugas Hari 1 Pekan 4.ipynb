{
 "cells": [
  {
   "cell_type": "markdown",
   "metadata": {
    "colab_type": "text",
    "id": "47NOwo3UNcRl"
   },
   "source": [
    "<h1>Soal 1: Pemahaman Machine Learning</h1>\n",
    "\n",
    "Jawab/Kerjakan pertanyaan/perintah di bawah ini dengan bahasa kalian sendiri:\n",
    "\n",
    "- Apa itu machine learning?\n",
    "  - machine learning adalah salah satu cabang dari AI yang mempelajari tentang bagaimana komputer dapat belajar dari data untuk meningkatkan kecerdasannya\n",
    "- Apa itu data feature dan data target?\n",
    "  - Data feature adalah data yang digunakan untuk memprediksi data target\n",
    "  - Data target adalah data hasil prediksi dari data feature\n",
    "- Apa Perbedaan Supervised Learning dan Unsupervised Learning?\n",
    "  - Supervised learning memiliki input dan output yang memiliki label\n",
    "  - Unsupervised learning tidak memiliki label pada input dan outputnya\n",
    "- Apa Jenis2 yang ada di dalam Supervised Learning? Jelaskan Perbedaannya!'\n",
    "  - Regresi : outputnya merupakan data kontinu\n",
    "  - Klasifikasi : outputnya merupakan class label/ hasil pengklasifikasian/pengelompokkan\n",
    "- Apa perbedaan Hyperparameter dan Parameter?\n",
    "  - Hyperparameter ditentukan diawal saat akan membangun model, merupakan bagian dari parameter\n",
    "  - Parameter akan dihasilkan diakhir \n",
    "- Sebutkan Langkah-langkah dalam mengaplikasikan algoritma apapun dalam machine learning!\n",
    "  - pilih model algoritma yg akan digunakan\n",
    "  - menentukan hyperparameter\n",
    "  - memisahkan data feature dan data target\n",
    "  - perintahkan model untuk mempeljari data menggunakan method fit()\n",
    "  - aplikasikan model ke dalam data test untuk memprediksi dg method predict() dll"
   ]
  },
  {
   "cell_type": "markdown",
   "metadata": {
    "colab_type": "text",
    "id": "58I1LJFoNcRv"
   },
   "source": [
    "---\n"
   ]
  },
  {
   "cell_type": "markdown",
   "metadata": {
    "colab_type": "text",
    "id": "jI50HJDgNcRz"
   },
   "source": [
    "<h1>Soal 2: Pemahaman Machine Learning</h1>\n",
    "\n",
    "Pelajarilah secara garis besar suatu model/algoritma machine learning, kemudian aplikasikan untuk membuat model bagi data (variable x, y) di bawah ini. Kemudian buatlah prediksi terhadap data training dan data baru di interval 20-30.\n",
    "\n",
    "- Plot data asli, data hasil prediksi terhadap data training, data hasil prediksi terhadap data baru\n",
    "- Tunjukan beberapa parameter yang dimiliki model yang telah kalian buat"
   ]
  },
  {
   "cell_type": "code",
   "execution_count": 1,
   "metadata": {
    "colab": {},
    "colab_type": "code",
    "id": "QotZc3UbNcR9",
    "outputId": "eac5b4f0-6932-446a-ebb2-5eaefadd583b"
   },
   "outputs": [
    {
     "data": {
      "text/plain": [
       "<Figure size 1200x600 with 1 Axes>"
      ]
     },
     "metadata": {},
     "output_type": "display_data"
    }
   ],
   "source": [
    "import matplotlib.pyplot as plt\n",
    "import numpy as np\n",
    "\n",
    "rng = np.random.RandomState(42)\n",
    "x = 20 * rng.rand(50)\n",
    "y = x**2 + 2 * x + - 1 + rng.randn(50)\n",
    "\n",
    "# data yang akan di prediksi\n",
    "x_new = np.arange(20, 30, 0.5)\n",
    "\n",
    "fig, ax = plt.subplots(figsize=(12, 6))\n",
    "ax.scatter(x, y)\n",
    "ax.set_xlabel('X-Value')\n",
    "ax.set_ylabel('Y-Value')\n",
    "plt.show()"
   ]
  },
  {
   "cell_type": "markdown",
   "metadata": {
    "colab_type": "text",
    "id": "3wrMfFusNcS6"
   },
   "source": [
    "Contoh jawaban hasil pembuatan model dengan algoritma DecisionTreeRegressor (jawaban tidak harus sama):\n",
    "\n",
    "![alt text](https://drive.google.com/uc?id=1R0mGnMp3DqEsHDiH2_IL4XSS2Roew0wo)"
   ]
  },
  {
   "cell_type": "markdown",
   "metadata": {
    "colab_type": "text",
    "id": "4Vs7RhxRNcS_"
   },
   "source": [
    "Contoh jawaban parameters (tidak harus sama):\n",
    "\n",
    "- Feature Importance : array([1.])\n",
    "- n features : 1\n",
    "  \n",
    "Tree Graph :\n",
    "\n",
    "![alt text](https://drive.google.com/uc?id=1GM0ba_qjm_e5oLhE9v6pVt2uRBBW6FH9)"
   ]
  },
  {
   "cell_type": "code",
   "execution_count": 8,
   "metadata": {
    "colab": {},
    "colab_type": "code",
    "id": "AQKlYTdSbL9o"
   },
   "outputs": [],
   "source": [
    "import pandas as pd\n",
    "from sklearn.linear_model import LinearRegression as lr\n",
    "\n",
    "model = lr(fit_intercept = True)"
   ]
  },
  {
   "cell_type": "code",
   "execution_count": 34,
   "metadata": {},
   "outputs": [
    {
     "data": {
      "text/plain": [
       "(20, 1)"
      ]
     },
     "execution_count": 34,
     "metadata": {},
     "output_type": "execute_result"
    }
   ],
   "source": [
    "#x_matrix = pd.DataFrame(x) \n",
    "x_matrikx = x[:, np.newaxis]\n",
    "x_matrix.shape\n",
    "xnew_matrix = x_new[:, np.newaxis]\n",
    "xnew_matrix.shape"
   ]
  },
  {
   "cell_type": "code",
   "execution_count": 11,
   "metadata": {},
   "outputs": [
    {
     "data": {
      "text/plain": [
       "LinearRegression(copy_X=True, fit_intercept=True, n_jobs=None,\n",
       "         normalize=False)"
      ]
     },
     "execution_count": 11,
     "metadata": {},
     "output_type": "execute_result"
    }
   ],
   "source": [
    "model.fit(x_matrix, y)"
   ]
  },
  {
   "cell_type": "code",
   "execution_count": 14,
   "metadata": {},
   "outputs": [
    {
     "data": {
      "text/plain": [
       "array([367.2976605 , 378.04576111, 388.79386171, 399.54196232,\n",
       "       410.29006292, 421.03816352, 431.78626413, 442.53436473,\n",
       "       453.28246534, 464.03056594, 474.77866655, 485.52676715,\n",
       "       496.27486775, 507.02296836, 517.77106896, 528.51916957,\n",
       "       539.26727017, 550.01537077, 560.76347138, 571.51157198])"
      ]
     },
     "execution_count": 14,
     "metadata": {},
     "output_type": "execute_result"
    }
   ],
   "source": [
    "ypredict = model.predict(xnew_matrix)\n",
    "ypredict"
   ]
  },
  {
   "cell_type": "code",
   "execution_count": 15,
   "metadata": {},
   "outputs": [
    {
     "data": {
      "text/plain": [
       "array([ 98.39743144, 346.10855678, 252.07541747, 194.75130097,\n",
       "         4.44979808,   4.43942827, -37.65482338, 309.76357057,\n",
       "       195.80742117, 241.79104839, -53.77659504, 354.36118306,\n",
       "       295.26072636,  28.66332129,  15.54455793,  16.22364126,\n",
       "        68.17468575, 162.97903313, 123.07717697,  62.58004025,\n",
       "       200.42389503,  -2.65460174,  62.97363928,  94.88139431,\n",
       "       133.44907925, 274.93964534,  23.21819228, 158.45537547,\n",
       "       192.06689176, -42.6562153 , 198.57176393,  10.68605381,\n",
       "       -34.65912103, 345.32232499, 352.52204586, 284.92307737,\n",
       "        68.3344138 , -20.63477536, 231.54185256, 126.60576769,\n",
       "       -10.15919464, 150.26208621, -47.84191228, 328.31232286,\n",
       "        48.6293674 , 222.20788293,  71.38571655, 160.96337284,\n",
       "       172.41751969,  16.84700774])"
      ]
     },
     "execution_count": 15,
     "metadata": {},
     "output_type": "execute_result"
    }
   ],
   "source": [
    "ytrain = model.predict(x_matrix)\n",
    "ytrain"
   ]
  },
  {
   "cell_type": "code",
   "execution_count": 22,
   "metadata": {},
   "outputs": [
    {
     "data": {
      "text/plain": [
       "<function matplotlib.pyplot.show(*args, **kw)>"
      ]
     },
     "execution_count": 22,
     "metadata": {},
     "output_type": "execute_result"
    },
    {
     "data": {
      "image/png": "[encoded data removed]",
      "text/plain": [
       "<Figure size 864x432 with 1 Axes>"
      ]
     },
     "metadata": {
      "needs_background": "light"
     },
     "output_type": "display_data"
    }
   ],
   "source": [
    "fig, ax = plt.subplots(figsize=(12,6))\n",
    "\n",
    "plt.scatter(x,y, label='Data Asli')\n",
    "plt.plot(x,ytrain, label='Prediksi Data Training')\n",
    "plt.plot(x_new, ypredict, label='Prediksi Data Baru')\n",
    "\n",
    "ax.legend()\n",
    "plt.show"
   ]
  },
  {
   "cell_type": "markdown",
   "metadata": {},
   "source": [
    "# algoritma DecisionTreeRegressor"
   ]
  },
  {
   "cell_type": "code",
   "execution_count": 43,
   "metadata": {},
   "outputs": [
    {
     "data": {
      "text/plain": [
       "DecisionTreeRegressor(criterion='mse', max_depth=None, max_features=None,\n",
       "           max_leaf_nodes=None, min_impurity_decrease=0.0,\n",
       "           min_impurity_split=None, min_samples_leaf=5,\n",
       "           min_samples_split=10, min_weight_fraction_leaf=0.0,\n",
       "           presort=False, random_state=None, splitter='best')"
      ]
     },
     "execution_count": 43,
     "metadata": {},
     "output_type": "execute_result"
    }
   ],
   "source": [
    "from sklearn.tree import DecisionTreeRegressor as dtr\n",
    "\n",
    "model_dtr = dtr(min_samples_split=10, min_samples_leaf=5)\n",
    "model_dtr.fit(x_matrix, y)"
   ]
  },
  {
   "cell_type": "code",
   "execution_count": 44,
   "metadata": {},
   "outputs": [],
   "source": [
    "ytrain = model_dtr.predict(x_matrix)\n",
    "ytest = model_dtr.predict(xnew_matrix)"
   ]
  },
  {
   "cell_type": "code",
   "execution_count": 46,
   "metadata": {},
   "outputs": [
    {
     "data": {
      "text/plain": [
       "<function matplotlib.pyplot.show(*args, **kw)>"
      ]
     },
     "execution_count": 46,
     "metadata": {},
     "output_type": "execute_result"
    },
    {
     "data": {
      "image/png": "[encoded data removed]",
      "text/plain": [
       "<Figure size 864x432 with 1 Axes>"
      ]
     },
     "metadata": {
      "needs_background": "light"
     },
     "output_type": "display_data"
    }
   ],
   "source": [
    "fig, ax = plt.subplots(figsize=(12,6))\n",
    "\n",
    "plt.scatter(x,y, label='Data Asli')\n",
    "plt.scatter(x,ytrain, label='Prediksi Data Training')\n",
    "plt.plot(x_new, ypredict, label='Prediksi Data Baru')\n",
    "\n",
    "ax.legend()\n",
    "plt.show"
   ]
  },
  {
   "cell_type": "code",
   "execution_count": 48,
   "metadata": {},
   "outputs": [
    {
     "ename": "ImportError",
     "evalue": "cannot import name 'plot_tree' from 'sklearn.tree' (C:\\Users\\ASUS\\Anaconda3\\lib\\site-packages\\sklearn\\tree\\__init__.py)",
     "output_type": "error",
     "traceback": [
      "\u001b[1;31m---------------------------------------------------------------------------\u001b[0m",
      "\u001b[1;31mImportError\u001b[0m                               Traceback (most recent call last)",
      "\u001b[1;32m<ipython-input-48-95d83013b5d4>\u001b[0m in \u001b[0;36m<module>\u001b[1;34m\u001b[0m\n\u001b[1;32m----> 1\u001b[1;33m \u001b[1;32mfrom\u001b[0m \u001b[0msklearn\u001b[0m\u001b[1;33m.\u001b[0m\u001b[0mtree\u001b[0m \u001b[1;32mimport\u001b[0m \u001b[0mplot_tree\u001b[0m\u001b[1;33m\u001b[0m\u001b[1;33m\u001b[0m\u001b[0m\n\u001b[0m\u001b[0;32m      2\u001b[0m \u001b[1;33m\u001b[0m\u001b[0m\n\u001b[0;32m      3\u001b[0m \u001b[0mplot_tree\u001b[0m\u001b[1;33m(\u001b[0m\u001b[0mmodel_dtr\u001b[0m\u001b[1;33m)\u001b[0m\u001b[1;33m\u001b[0m\u001b[1;33m\u001b[0m\u001b[0m\n\u001b[0;32m      4\u001b[0m \u001b[0mplt\u001b[0m\u001b[1;33m.\u001b[0m\u001b[0mshow\u001b[0m\u001b[1;33m(\u001b[0m\u001b[1;33m)\u001b[0m\u001b[1;33m\u001b[0m\u001b[1;33m\u001b[0m\u001b[0m\n",
      "\u001b[1;31mImportError\u001b[0m: cannot import name 'plot_tree' from 'sklearn.tree' (C:\\Users\\ASUS\\Anaconda3\\lib\\site-packages\\sklearn\\tree\\__init__.py)"
     ]
    }
   ],
   "source": [
    "from sklearn.tree import plot_tree\n",
    "\n",
    "plot_tree(model_dtr)\n",
    "plt.show()"
   ]
  }
 ],
 "metadata": {
  "colab": {
   "collapsed_sections": [],
   "name": "Tugas Hari 1 Pekan 4.ipynb",
   "provenance": []
  },
  "kernelspec": {
   "display_name": "Python 3",
   "language": "python",
   "name": "python3"
  },
  "language_info": {
   "codemirror_mode": {
    "name": "ipython",
    "version": 3
   },
   "file_extension": ".py",
   "mimetype": "text/x-python",
   "name": "python",
   "nbconvert_exporter": "python",
   "pygments_lexer": "ipython3",
   "version": "3.7.1"
  }
 },
 "nbformat": 4,
 "nbformat_minor": 2
}
